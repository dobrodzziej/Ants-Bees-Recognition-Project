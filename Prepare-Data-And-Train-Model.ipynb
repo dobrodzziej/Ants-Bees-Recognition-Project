{
 "cells": [
  {
   "cell_type": "code",
   "execution_count": 34,
   "metadata": {},
   "outputs": [],
   "source": [
    "from typing import Any\n",
    "\n",
    "import time\n",
    "\n",
    "from pathlib import Path\n",
    "import shutil\n",
    "\n",
    "from datetime import datetime\n",
    "\n",
    "import yaml\n",
    "\n",
    "import math\n",
    "import numpy as np\n",
    "\n",
    "from PIL import Image, ImageOps\n",
    "import albumentations as A\n",
    "import cv2\n",
    "\n",
    "import matplotlib.pyplot as plt\n",
    "from matplotlib.ticker import MaxNLocator\n",
    "\n",
    "import torch\n",
    "import torch.nn as nn\n",
    "import torch.nn.functional as F\n",
    "from torch.utils.data import Dataset, DataLoader, random_split\n",
    "import torchvision\n",
    "from torchvision.datasets import ImageFolder\n",
    "from torchvision import transforms\n",
    "\n",
    "\n",
    "import mlflow\n",
    "import mlflow.pytorch as ml_pt\n",
    "\n",
    "from project_modules import (get_new_image_size, get_borders_size, modify_image, prep_images, mlflow_log_figure, create_learning_curves_dict, \n",
    "                             ImageModifier, MyResNet34, MyResNet50, ToTensorWithGrad, TargetTransform, TrainingSupervisor)"
   ]
  },
  {
   "cell_type": "markdown",
   "metadata": {},
   "source": [
    "### Running Mlflow (Run in Ants-Bees-Recognition-Project)"
   ]
  },
  {
   "cell_type": "code",
   "execution_count": 35,
   "metadata": {},
   "outputs": [],
   "source": [
    "experiment_name = \"Ants Bees Recognition Project\""
   ]
  },
  {
   "cell_type": "code",
   "execution_count": 36,
   "metadata": {},
   "outputs": [],
   "source": [
    "try:\n",
    "    exp_id = mlflow.create_experiment(name=experiment_name, tags={\"Type\": \"project\"})\n",
    "except:\n",
    "    exp_id = mlflow.get_experiment_by_name(name=experiment_name).experiment_id\n",
    "\n",
    "mlflow.set_experiment(experiment_name=experiment_name)\n",
    "mlflow.set_tracking_uri(\"/home/maciej/programming/Ants-Bees-Recognition-Project/mlruns/268962542675260621/test-folder\")\n",
    "# mlflow.set_experiment(experiment_id=\"268962542675260621\")"
   ]
  },
  {
   "cell_type": "code",
   "execution_count": 37,
   "metadata": {},
   "outputs": [
    {
     "name": "stdout",
     "output_type": "stream",
     "text": [
      "/home/maciej/programming/Ants-Bees-Recognition-Project/mlruns/268962542675260621/test-folder\n"
     ]
    }
   ],
   "source": [
    "print(mlflow.tracking.get_tracking_uri())"
   ]
  },
  {
   "cell_type": "markdown",
   "metadata": {},
   "source": [
    "### Check some image properties"
   ]
  },
  {
   "cell_type": "code",
   "execution_count": 38,
   "metadata": {},
   "outputs": [],
   "source": [
    "data_path = Path(\"hymenoptera_data\")\n",
    "\n",
    "path_train = data_path/\"train\"\n",
    "path_val = data_path/\"val\"\n",
    "path_test = data_path/\"test\"\n",
    "\n",
    "path_train_mod = data_path/\"train_mod\"\n",
    "path_val_mod = data_path/\"val_mod\"\n",
    "path_test_mod = data_path/\"test_mod\"\n",
    "\n",
    "path_train_bees = path_train/\"bees\"\n",
    "path_train_ants = path_train/\"ants\"\n",
    "path_val_bees = path_val/\"bees\"\n",
    "path_val_ants = path_val/\"ants\"\n",
    "path_test_bees = path_test/\"bees\"\n",
    "path_test_ants = path_test/\"ants\"\n",
    "\n",
    "path_train_bees_mod = data_path/\"train_mod\"/\"bees\"\n",
    "path_train_ants_mod = data_path/\"train_mod\"/\"ants\"\n",
    "path_val_bees_mod = data_path/\"val_mod\"/\"bees\"\n",
    "path_val_ants_mod = data_path/\"val_mod\"/\"ants\"\n",
    "path_test_bees_mod = data_path/\"test_mod\"/\"bees\"\n",
    "path_test_ants_mod = data_path/\"test_mod\"/\"ants\""
   ]
  },
  {
   "cell_type": "code",
   "execution_count": 39,
   "metadata": {},
   "outputs": [
    {
     "data": {
      "text/plain": [
       "'cuda'"
      ]
     },
     "execution_count": 39,
     "metadata": {},
     "output_type": "execute_result"
    }
   ],
   "source": [
    "device = \"cuda\" if torch.cuda.is_available() else \"cpu\"\n",
    "device"
   ]
  },
  {
   "cell_type": "code",
   "execution_count": 40,
   "metadata": {},
   "outputs": [
    {
     "name": "stdout",
     "output_type": "stream",
     "text": [
      "hymenoptera_data/train/bees/90.jpeg\n",
      "hymenoptera_data/train/bees/100.jpeg\n",
      "hymenoptera_data/train/bees/97.jpeg\n",
      "hymenoptera_data/train/bees/89.jpeg\n",
      "hymenoptera_data/train/bees/88.jpeg\n",
      "hymenoptera_data/train/bees/92.jpeg\n",
      "hymenoptera_data/train/bees/2610833167_79bf0bcae5.jpg\n",
      "hymenoptera_data/train/bees/98.jpeg\n",
      "hymenoptera_data/train/bees/99.jpeg\n",
      "hymenoptera_data/train/bees/2781170484_5d61835d63.jpg\n",
      "hymenoptera_data/train/bees/10.jpeg\n",
      "hymenoptera_data/train/bees/94.jpeg\n",
      "hymenoptera_data/train/bees/95.jpeg\n",
      "hymenoptera_data/train/bees/96.jpeg\n",
      "hymenoptera_data/train/bees/91.jpeg\n",
      "hymenoptera_data/train/bees/93.jpeg\n",
      "max width: 500, max height: 500\n",
      "min width: 245, min height: 168\n"
     ]
    }
   ],
   "source": [
    "max_w = 0\n",
    "max_h = 0\n",
    "min_w = math.inf\n",
    "min_h = math.inf\n",
    "\n",
    "for im_path in path_train_bees.iterdir():\n",
    "    im = Image.open(im_path)\n",
    "    w, h = im.size\n",
    "    max_w = w if w > max_w else max_w\n",
    "    max_h = h if h > max_h else max_h\n",
    "    min_w = w if w < min_w else min_w\n",
    "    min_h = h if h < min_h else min_h\n",
    "    if w != 500 and h != 500:\n",
    "        print(im_path)\n",
    "print(f\"max width: {max_w}, max height: {max_h}\")\n",
    "print(f\"min width: {min_w}, min height: {min_h}\")"
   ]
  },
  {
   "cell_type": "code",
   "execution_count": 41,
   "metadata": {},
   "outputs": [],
   "source": [
    "im_path1 = path_train_bees/\"2610833167_79bf0bcae5.jpg\"\n",
    "im_path2 = path_train_bees/\"2781170484_5d61835d63.jpg\"\n",
    "im_path3 = \"hymenoptera_data/val/ants/43.jpeg\"\n",
    "\n",
    "im1 = Image.open(im_path1)\n",
    "im2 = Image.open(im_path2)\n",
    "im3 = Image.open(im_path3)"
   ]
  },
  {
   "cell_type": "code",
   "execution_count": 42,
   "metadata": {},
   "outputs": [
    {
     "data": {
      "text/plain": [
       "(311, 387)"
      ]
     },
     "execution_count": 42,
     "metadata": {},
     "output_type": "execute_result"
    }
   ],
   "source": [
    "im1.width, im1.height"
   ]
  },
  {
   "cell_type": "code",
   "execution_count": 43,
   "metadata": {},
   "outputs": [
    {
     "data": {
      "text/plain": [
       "(486, 429)"
      ]
     },
     "execution_count": 43,
     "metadata": {},
     "output_type": "execute_result"
    }
   ],
   "source": [
    "im2.width, im2.height"
   ]
  },
  {
   "cell_type": "code",
   "execution_count": 44,
   "metadata": {},
   "outputs": [
    {
     "name": "stdout",
     "output_type": "stream",
     "text": [
      "214 95\n"
     ]
    },
    {
     "data": {
      "image/jpeg": "[encoded data removed]",
      "image/png": "[encoded data removed]",
      "text/plain": [
       "<PIL.Image.Image image mode=RGB size=214x214>"
      ]
     },
     "execution_count": 44,
     "metadata": {},
     "output_type": "execute_result"
    }
   ],
   "source": [
    "image_mod = modify_image(image=im3)\n",
    "image_mod"
   ]
  },
  {
   "cell_type": "markdown",
   "metadata": {},
   "source": [
    "### Prepare images"
   ]
  },
  {
   "cell_type": "code",
   "execution_count": 45,
   "metadata": {},
   "outputs": [],
   "source": [
    "# image_modifier = ImageModifier(desired_wh=224)\n",
    "# im_mod = image_modifier.modify_image(image=im3, add_borders=False)\n",
    "# im_mod"
   ]
  },
  {
   "cell_type": "code",
   "execution_count": 46,
   "metadata": {},
   "outputs": [],
   "source": [
    "# image_modifier = ImageModifier(desired_wh=224)\n",
    "\n",
    "# alb_trans = A.Compose([\n",
    "#                     #    A.Resize(width=250, height=250), \n",
    "#                     #    A.RandomCrop(width=214, height=214), \n",
    "#                        A.Rotate(limit=40, p=0.1, border_mode=cv2.BORDER_CONSTANT), \n",
    "#                        A.HorizontalFlip(p=0.5),\n",
    "#                        A.VerticalFlip(p=0.05), \n",
    "#                        A.Blur(blur_limit=3, p=0.05), \n",
    "#                        A.OneOf([\n",
    "#                                 # A.ColorJitter(p=0.5),\n",
    "#                                 A.RGBShift(r_shift_limit=10, g_shift_limit=10, b_shift_limit=10)\n",
    "#                                 ], p=1.0)\n",
    "#                        ])\n",
    "\n",
    "\n",
    "# original_files_dirs = [path_train_bees, path_train_ants]\n",
    "# modified_files_dirs = [path_train_bees_mod, path_train_ants_mod]\n",
    "\n",
    "# prep_images(original_files_dirs, modified_files_dirs, image_modifier, alb_trans, True)\n",
    "\n",
    "# original_files_dirs = [path_val_bees, path_val_ants]\n",
    "# modified_files_dirs = [path_val_bees_mod, path_val_ants_mod]\n",
    "\n",
    "# prep_images(original_files_dirs, modified_files_dirs, image_modifier)\n",
    "\n",
    "# original_files_dirs = [path_test_bees, path_test_ants]\n",
    "# modified_files_dirs = [path_test_bees_mod, path_test_ants_mod]\n",
    "\n",
    "# prep_images(original_files_dirs, modified_files_dirs, image_modifier)"
   ]
  },
  {
   "cell_type": "markdown",
   "metadata": {},
   "source": [
    "### Show exapmle of modified image"
   ]
  },
  {
   "cell_type": "code",
   "execution_count": 47,
   "metadata": {},
   "outputs": [],
   "source": [
    "# Use this to experiment with some other albumentations transforms\n",
    "# # alb_trans = A.Compose([A.Resize(width=250, height=250), \n",
    "# #                        A.RandomCrop(width=214, height=214), \n",
    "# #                        A.Rotate(limit=40, p=0.9, border_mode=cv2.BORDER_CONSTANT), \n",
    "# #                        A.HorizontalFlip(p=0.5),\n",
    "# #                        A.VerticalFlip(p=0.05), \n",
    "# #                        A.OneOf([\n",
    "# #                                 A.Blur(blur_limit=3), \n",
    "# #                                 A.ColorJitter(p=0.5),\n",
    "# #                                 A.RGBShift(r_shift_limit=25, g_shift_limit=25, b_shift_limit=25)\n",
    "# #                                 ], p=1.0)\n",
    "# #                        ])\n",
    "\n",
    "\n",
    "# mod_bee_path = path_train_bees/\"16838648_415acd9e3f.jpg\"\n",
    "# mod_bee = Image.open(mod_bee_path)\n",
    "# mod_bee = image_modifier.modify_image(image=mod_bee, add_borders=False)\n",
    "# mod_bee = np.array(mod_bee)\n",
    "# mod_bee = alb_trans(image=mod_bee)\n",
    "# mod_bee = mod_bee[\"image\"]\n",
    "# plt.imshow(mod_bee)\n",
    "# plt.show()"
   ]
  },
  {
   "cell_type": "markdown",
   "metadata": {},
   "source": [
    "### Prepare Pytorch datasets and dataloaders"
   ]
  },
  {
   "cell_type": "code",
   "execution_count": 48,
   "metadata": {},
   "outputs": [],
   "source": [
    "# The same as transforms.ToTensor() but sets requires_grad == True\n",
    "dataset_transform = ToTensorWithGrad()\n",
    "# dataset_transform = transforms.ToTensor()\n",
    "\n",
    "# train_dataset = ImageFolder(root=path_train_mod, transform=dataset_transform, target_transform=TargetTransform())\n",
    "train_dataset = ImageFolder(root=path_train_mod, transform=transforms.ToTensor(), target_transform=TargetTransform())\n",
    "val_dataset = ImageFolder(root=path_val_mod, transform=transforms.ToTensor(), target_transform=TargetTransform())\n",
    "test_dataset = ImageFolder(root=path_test_mod, transform=transforms.ToTensor(), target_transform=TargetTransform())\n",
    "\n",
    "train_dataloader = DataLoader(dataset=train_dataset, batch_size=32, shuffle=True)\n",
    "val_dataloader = DataLoader(dataset=val_dataset, batch_size=32, shuffle=True)\n",
    "test_dataloader = DataLoader(dataset=test_dataset, batch_size=32, shuffle=True)"
   ]
  },
  {
   "cell_type": "code",
   "execution_count": 49,
   "metadata": {},
   "outputs": [
    {
     "data": {
      "text/plain": [
       "(68, 6, 5)"
      ]
     },
     "execution_count": 49,
     "metadata": {},
     "output_type": "execute_result"
    }
   ],
   "source": [
    "len(train_dataloader), len(val_dataloader), len(test_dataloader)"
   ]
  },
  {
   "cell_type": "code",
   "execution_count": 50,
   "metadata": {},
   "outputs": [
    {
     "data": {
      "text/plain": [
       "2168"
      ]
     },
     "execution_count": 50,
     "metadata": {},
     "output_type": "execute_result"
    }
   ],
   "source": [
    "len(train_dataloader.dataset)"
   ]
  },
  {
   "cell_type": "code",
   "execution_count": 51,
   "metadata": {},
   "outputs": [
    {
     "data": {
      "image/png": "[encoded data removed]",
      "text/plain": [
       "<Figure size 640x480 with 1 Axes>"
      ]
     },
     "metadata": {},
     "output_type": "display_data"
    }
   ],
   "source": [
    "batch = (next(iter(val_dataloader)))\n",
    "test_picture = batch[0][0].detach().numpy()\n",
    "test_label = batch[1][0].short()\n",
    "test_picture = np.transpose(test_picture, axes=(1, 2, 0))\n",
    "plt.imshow(test_picture)\n",
    "plt.title(f\"label: {test_label}\")\n",
    "plt.show()"
   ]
  },
  {
   "cell_type": "markdown",
   "metadata": {},
   "source": [
    "### Check dataloaders"
   ]
  },
  {
   "cell_type": "code",
   "execution_count": 52,
   "metadata": {},
   "outputs": [],
   "source": [
    "# X, y = next(iter(train_dataloader))\n",
    "# outputs = my_resnet(X)\n",
    "# outputs.shape, y.shape"
   ]
  },
  {
   "cell_type": "code",
   "execution_count": 53,
   "metadata": {},
   "outputs": [],
   "source": [
    "# labels = torch.tensor([[1]*32], dtype=torch.float).T\n",
    "# loss_fn = nn.BCEWithLogitsLoss()\n",
    "# loss = loss_fn(outputs, labels)\n",
    "# loss"
   ]
  },
  {
   "cell_type": "markdown",
   "metadata": {},
   "source": [
    "### Check TrainingSupervisor class"
   ]
  },
  {
   "cell_type": "code",
   "execution_count": 54,
   "metadata": {},
   "outputs": [],
   "source": [
    "# path=Path(\"./checkpoints/checkpoint.pth\")\n",
    "# model=MyResNet34().to(device)\n",
    "# supervisor = TrainingSupervisor(model=model, early_stop_patience=5, lr=0.01, lr_patience=2, lr_reduce_factor = 2, checkpoints_default_filepath=path)\n",
    "# supervisor.save_model_state_dict()"
   ]
  },
  {
   "cell_type": "markdown",
   "metadata": {},
   "source": [
    "### Check the model - try overfitting single training minibatch and logging the results to mlflow"
   ]
  },
  {
   "cell_type": "code",
   "execution_count": 55,
   "metadata": {},
   "outputs": [],
   "source": [
    "# batch_size = 1\n",
    "\n",
    "# # dataset_transform = transforms.ToTensor()\n",
    "# dataset_transform = ToTensorWithGrad()\n",
    "\n",
    "# train_dataset = ImageFolder(root=path_train_mod, transform=dataset_transform, target_transform=TargetTransform())\n",
    "# val_dataset = ImageFolder(root=path_val_mod, transform=transforms.ToTensor(), target_transform=TargetTransform())\n",
    "# test_dataset = ImageFolder(root=path_test_mod, transform=transforms.ToTensor(), target_transform=TargetTransform())"
   ]
  },
  {
   "cell_type": "code",
   "execution_count": 56,
   "metadata": {},
   "outputs": [],
   "source": [
    "# model = MyResNet50()\n",
    "# model.to(device)\n",
    "# path=Path(\"./checkpoints/checkpoint.pth\")\n",
    "# lr = 0.01\n",
    "# supervisor = TrainingSupervisor(model=model, early_stop_patience=3, lr=lr, lr_patience=2, lr_reduce_factor = 2, checkpoints_default_filepath=path)\n",
    "# loss_fn = nn.BCEWithLogitsLoss()\n",
    "# optimizer = torch.optim.Adam(params=model.parameters(), lr=lr)"
   ]
  },
  {
   "cell_type": "code",
   "execution_count": 57,
   "metadata": {},
   "outputs": [],
   "source": [
    "# n_epochs = 20\n",
    "# batch_size = 14\n",
    "\n",
    "# train_dataloader = DataLoader(dataset=train_dataset, batch_size=batch_size, shuffle=True)\n",
    "# val_dataloader = DataLoader(dataset=val_dataset, batch_size=32, shuffle=True)\n",
    "# test_dataloader = DataLoader(dataset=test_dataset, batch_size=32, shuffle=True)\n",
    "\n",
    "# plots_x_axis = np.array([])\n",
    "# training_losses = np.array([])\n",
    "# validation_losses = np.array([])\n",
    "# accuracies = np.array([])\n",
    "# learning_rates = np.array([])\n",
    "\n",
    "\n",
    "\n",
    "# batch = (next(iter(train_dataloader)))\n",
    "# X, y = batch[0], batch[1]\n",
    "# X, y = X.to(device), y.to(device)\n",
    "\n",
    "\n",
    "# with mlflow.start_run() as run:\n",
    "#     run_id = run.info.run_id\n",
    "#     for epoch in range(1, n_epochs+1):\n",
    "#         print(f\"\\nEpoch {epoch}/{n_epochs}\")\n",
    "# # ========================================================================\n",
    "#         outputs = model(X)\n",
    "#         loss = loss_fn(outputs, y)\n",
    "#         optimizer.zero_grad()\n",
    "#         loss.backward()\n",
    "#         optimizer.step()\n",
    "# # ========================================================================\n",
    "\n",
    "#         print(f\"Training loss: {loss:.2f}\")"
   ]
  },
  {
   "cell_type": "markdown",
   "metadata": {},
   "source": [
    "### Check the model performance, perform full training and evaluating scenario"
   ]
  },
  {
   "cell_type": "code",
   "execution_count": 58,
   "metadata": {},
   "outputs": [],
   "source": [
    "# loaded_state_dict = ml_pt.load_state_dict(state_dict_uri=\"mlruns/268962542675260621/f74e570265ba4458b5c8afd25ecd02ce/artifacts/model_artifacts\")\n",
    "# model = MyResNet34()\n",
    "# model.load_state_dict(state_dict=loaded_state_dict)\n",
    "\n",
    "if device == \"cuda\":\n",
    "    torch.cuda.empty_cache()\n",
    "model = MyResNet50()"
   ]
  },
  {
   "cell_type": "code",
   "execution_count": 59,
   "metadata": {},
   "outputs": [],
   "source": [
    "path=Path(\"./checkpoints/checkpoint.pth\")\n",
    "lr = 0.01\n",
    "supervisor = TrainingSupervisor(model=model, early_stop_patience=25, lr=lr, lr_patience=8, lr_reduce_factor=2, checkpoints_default_filepath=path)\n",
    "loss_fn = nn.BCEWithLogitsLoss()\n",
    "optimizer = torch.optim.Adam(params=model.parameters(), lr=lr)"
   ]
  },
  {
   "cell_type": "code",
   "execution_count": 60,
   "metadata": {},
   "outputs": [
    {
     "name": "stderr",
     "output_type": "stream",
     "text": [
      "2024/09/29 21:45:16 WARNING mlflow.utils.autologging_utils: You are using an unsupported version of pytorch. If you encounter errors during autologging, try upgrading / downgrading pytorch to a supported version, or try upgrading MLflow.\n"
     ]
    },
    {
     "name": "stdout",
     "output_type": "stream",
     "text": [
      "\n",
      "Epoch 1/1000\n",
      "Step 1/181\n",
      "Step 2/181\n",
      "Step 3/181\n",
      "Step 4/181\n",
      "Step 5/181\n",
      "Step 6/181\n",
      "Step 7/181\n",
      "Step 8/181\n",
      "Step 9/181\n",
      "Step 10/181\n",
      "Step 11/181\n",
      "Step 12/181\n",
      "Step 13/181\n",
      "Step 14/181\n",
      "Step 15/181\n",
      "Step 16/181\n",
      "Step 17/181\n",
      "Step 18/181\n",
      "Step 19/181\n",
      "Step 20/181\n",
      "Step 21/181\n",
      "Step 22/181\n",
      "Step 23/181\n",
      "Step 24/181\n",
      "Step 25/181\n",
      "Step 26/181\n",
      "Step 27/181\n",
      "Step 28/181\n",
      "Step 29/181\n",
      "Step 30/181\n",
      "Step 31/181\n",
      "Step 32/181\n",
      "Step 33/181\n",
      "Step 34/181\n",
      "Step 35/181\n",
      "Step 36/181\n",
      "Step 37/181\n",
      "Step 38/181\n",
      "Step 39/181\n",
      "Step 40/181\n",
      "Step 41/181\n",
      "Step 42/181\n",
      "Step 43/181\n",
      "Step 44/181\n",
      "Step 45/181\n",
      "Step 46/181\n",
      "Step 47/181\n",
      "Step 48/181\n",
      "Step 49/181\n",
      "Step 50/181\n",
      "Step 51/181\n",
      "Step 52/181\n",
      "Step 53/181\n",
      "Step 54/181\n",
      "Step 55/181\n",
      "Step 56/181\n",
      "Step 57/181\n",
      "Step 58/181\n",
      "Step 59/181\n",
      "Step 60/181\n",
      "Step 61/181\n",
      "Step 62/181\n",
      "Step 63/181\n",
      "Step 64/181\n",
      "Step 65/181\n",
      "Step 66/181\n",
      "Step 67/181\n",
      "Step 68/181\n",
      "Step 69/181\n",
      "Step 70/181\n",
      "Step 71/181\n",
      "Step 72/181\n",
      "Step 73/181\n",
      "Step 74/181\n",
      "Step 75/181\n",
      "Step 76/181\n",
      "Step 77/181\n",
      "Step 78/181\n",
      "Step 79/181\n",
      "Step 80/181\n",
      "Step 81/181\n",
      "Step 82/181\n",
      "Step 83/181\n",
      "Step 84/181\n",
      "Step 85/181\n",
      "Step 86/181\n",
      "Step 87/181\n",
      "Step 88/181\n",
      "Step 89/181\n",
      "Step 90/181\n",
      "Step 91/181\n",
      "Step 92/181\n",
      "Step 93/181\n",
      "Step 94/181\n",
      "Step 95/181\n",
      "Step 96/181\n",
      "Step 97/181\n",
      "Step 98/181\n",
      "Step 99/181\n",
      "Step 100/181\n",
      "Step 101/181\n",
      "Step 102/181\n",
      "Step 103/181\n",
      "Step 104/181\n",
      "Step 105/181\n",
      "Step 106/181\n",
      "Step 107/181\n",
      "Step 108/181\n",
      "Step 109/181\n",
      "Step 110/181\n",
      "Step 111/181\n",
      "Step 112/181\n",
      "Step 113/181\n",
      "Step 114/181\n",
      "Step 115/181\n",
      "Step 116/181\n",
      "Step 117/181\n",
      "Step 118/181\n",
      "Step 119/181\n",
      "Step 120/181\n",
      "Step 121/181\n",
      "Step 122/181\n",
      "Step 123/181\n",
      "Step 124/181\n",
      "Step 125/181\n",
      "Step 126/181\n",
      "Step 127/181\n",
      "Step 128/181\n",
      "Step 129/181\n",
      "Step 130/181\n",
      "Step 131/181\n",
      "Step 132/181\n",
      "Step 133/181\n",
      "Step 134/181\n",
      "Step 135/181\n",
      "Step 136/181\n",
      "Step 137/181\n",
      "Step 138/181\n",
      "Step 139/181\n",
      "Step 140/181\n",
      "Step 141/181\n",
      "Step 142/181\n",
      "Step 143/181\n",
      "Step 144/181\n",
      "Step 145/181\n",
      "Step 146/181\n",
      "Step 147/181\n",
      "Step 148/181\n",
      "Step 149/181\n",
      "Step 150/181\n",
      "Step 151/181\n",
      "Step 152/181\n",
      "Step 153/181\n",
      "Step 154/181\n",
      "Step 155/181\n",
      "Step 156/181\n",
      "Step 157/181\n",
      "Step 158/181\n",
      "Step 159/181\n",
      "Step 160/181\n",
      "Step 161/181\n",
      "Step 162/181\n",
      "Step 163/181\n",
      "Step 164/181\n",
      "Step 165/181\n",
      "Step 166/181\n",
      "Step 167/181\n",
      "Step 168/181\n",
      "Step 169/181\n",
      "Step 170/181\n",
      "Step 171/181\n",
      "Step 172/181\n",
      "Step 173/181\n",
      "Step 174/181\n",
      "Step 175/181\n",
      "Step 176/181\n",
      "Step 177/181\n",
      "Step 178/181\n",
      "Step 179/181\n",
      "Step 180/181\n",
      "Step 181/181\n",
      "Evaluating model performance...\n",
      "\n",
      "\n",
      "Training accuracy: 60.89%\n",
      "Validation accuracy: 55.29%\n",
      "Training loss: 0.05709\n",
      "Validation loss: 0.06630\n",
      "lr: 0.01\n",
      "Saving model...\n",
      "\n",
      "Epoch 2/1000\n",
      "Step 1/181\n",
      "Step 2/181\n",
      "Step 3/181\n",
      "Step 4/181\n",
      "Step 5/181\n",
      "Step 6/181\n",
      "Step 7/181\n",
      "Step 8/181\n",
      "Step 9/181\n",
      "Step 10/181\n",
      "Step 11/181\n",
      "Step 12/181\n",
      "Step 13/181\n",
      "Step 14/181\n",
      "Step 15/181\n",
      "Step 16/181\n",
      "Step 17/181\n",
      "Step 18/181\n",
      "Step 19/181\n",
      "Step 20/181\n",
      "Step 21/181\n",
      "Step 22/181\n",
      "Step 23/181\n",
      "Step 24/181\n",
      "Step 25/181\n",
      "Step 26/181\n",
      "Step 27/181\n",
      "Step 28/181\n",
      "Step 29/181\n",
      "Step 30/181\n",
      "Step 31/181\n",
      "Step 32/181\n",
      "Step 33/181\n",
      "Step 34/181\n",
      "Step 35/181\n",
      "Step 36/181\n",
      "Step 37/181\n",
      "Step 38/181\n",
      "Step 39/181\n",
      "Step 40/181\n",
      "Step 41/181\n",
      "Step 42/181\n",
      "Step 43/181\n",
      "Step 44/181\n",
      "Step 45/181\n",
      "Step 46/181\n",
      "Step 47/181\n",
      "Step 48/181\n",
      "Step 49/181\n",
      "Step 50/181\n",
      "Step 51/181\n",
      "Step 52/181\n",
      "Step 53/181\n",
      "Step 54/181\n",
      "Step 55/181\n",
      "Step 56/181\n",
      "Step 57/181\n",
      "Step 58/181\n",
      "Step 59/181\n",
      "Step 60/181\n",
      "Step 61/181\n",
      "Step 62/181\n",
      "Step 63/181\n",
      "Step 64/181\n",
      "Step 65/181\n",
      "Step 66/181\n",
      "Step 67/181\n",
      "Step 68/181\n",
      "Step 69/181\n",
      "Step 70/181\n",
      "Step 71/181\n",
      "Step 72/181\n",
      "Step 73/181\n",
      "Step 74/181\n",
      "Step 75/181\n",
      "Step 76/181\n",
      "Step 77/181\n",
      "Step 78/181\n",
      "Step 79/181\n",
      "Step 80/181\n",
      "Step 81/181\n",
      "Step 82/181\n",
      "Step 83/181\n",
      "Step 84/181\n",
      "Step 85/181\n",
      "Step 86/181\n",
      "Step 87/181\n",
      "Step 88/181\n",
      "Step 89/181\n",
      "Step 90/181\n",
      "Step 91/181\n",
      "Step 92/181\n",
      "Keyboard Interrupt occurred\n"
     ]
    }
   ],
   "source": [
    "n_epochs = 1000\n",
    "\n",
    "batch_size = 26\n",
    "if model._get_name() == \"MyResNet34\":\n",
    "    batch_size = 26\n",
    "elif model._get_name() == \"MyResNet50\":\n",
    "    batch_size = 12\n",
    "    \n",
    "model.to(device)\n",
    "\n",
    "train_dataloader = DataLoader(dataset=train_dataset, batch_size=batch_size, shuffle=True)\n",
    "val_dataloader = DataLoader(dataset=val_dataset, batch_size=batch_size, shuffle=True)\n",
    "test_dataloader = DataLoader(dataset=test_dataset, batch_size=batch_size, shuffle=True)\n",
    "len_dataloader = len(train_dataloader)\n",
    "\n",
    "epochs = np.array([])\n",
    "train_losses = np.array([])\n",
    "val_losses = np.array([])\n",
    "train_accuracies = np.array([])\n",
    "val_accuracies = np.array([])\n",
    "learning_rates = np.array([])\n",
    "\n",
    "ml_pt.autolog(disable=False)\n",
    "try:\n",
    "    with mlflow.start_run() as run:\n",
    "        params_dict = {\"Model architecture\": model._get_name(), \"Batch size\": batch_size, \n",
    "                       \"Train dataset size\": len(train_dataloader.dataset), \n",
    "                       \"Validation dataset size\": len(val_dataloader.dataset), \"No. of augmentations per image\": 3}\n",
    "        mlflow.log_params(params=params_dict)\n",
    "        run_id = run.info.run_id\n",
    "        for epoch in range(1, n_epochs+1):\n",
    "            print(f\"\\nEpoch {epoch}/{n_epochs}\")\n",
    "    # ========================================================================\n",
    "            for idx, (X, y) in enumerate(train_dataloader):\n",
    "                print(f\"Step {idx + 1}/{len_dataloader}\")\n",
    "                X, y = X.to(device), y.to(device)\n",
    "                outputs = model(X)\n",
    "                loss = loss_fn(outputs, y)\n",
    "                optimizer.zero_grad()\n",
    "                loss.backward()\n",
    "                optimizer.step()\n",
    "    # ========================================================================\n",
    "            print(\"Evaluating model performance...\")\n",
    "            train_accuracy, train_loss_sum = supervisor.check_accuracy(loss_fn=loss_fn, dataloader=train_dataloader, device=device)\n",
    "            val_accuracy, val_loss_sum = supervisor.check_accuracy(loss_fn=loss_fn, dataloader=val_dataloader, device=device)\n",
    "\n",
    "            lr = supervisor.lr\n",
    "\n",
    "            mlflow.log_metrics(metrics={\"Epoch\": epoch, \"Training loss\": train_loss_sum, \n",
    "                                        \"Validaion loss\": val_loss_sum, \"Training accuracy\": train_accuracy, \n",
    "                                        \"Validation accuracy\": val_accuracy, \"Learning rate\": lr})\n",
    "\n",
    "            epochs = np.append(epochs, epoch)\n",
    "            train_losses = np.append(train_losses, train_loss_sum)\n",
    "            val_losses = np.append(val_losses, val_loss_sum)\n",
    "            train_accuracies = np.append(train_accuracies, train_accuracy)\n",
    "            val_accuracies = np.append(val_accuracies, val_accuracy)\n",
    "            learning_rates = np.append(learning_rates, lr)\n",
    "\n",
    "            mlflow_log_figure(X=epochs, Y=train_losses, artifact_file=\"learning_curves.png\", \n",
    "                            Y2=val_losses, title=\"learning curves\", xlabel=\"epoch\", \n",
    "                            ylabel=\"loss values\", legend=[\"train loss\", \"val loss\"])\n",
    "            \n",
    "            mlflow_log_figure(X=epochs, Y=train_accuracies, artifact_file=\"plots/accuracies.png\", \n",
    "                                Y2=val_accuracies, title=\"training and validation accuracies\", xlabel=\"epoch\", \n",
    "                                ylabel=\"accuracy\", legend=[\"training accuracy\", \"validation accuracy\"])\n",
    "\n",
    "            mlflow_log_figure(X=epochs, Y=learning_rates, artifact_file=\"plots/learning_rate.png\", \n",
    "                        title=\"learning rate\", xlabel=\"epoch\", ylabel=\"lr\")\n",
    "            \n",
    "            print(\"\\n\")\n",
    "            print(f\"Training accuracy: {train_accuracy:.2f}%\")\n",
    "            print(f\"Validation accuracy: {val_accuracy:.2f}%\")\n",
    "            print(f\"Training loss: {train_loss_sum:.5f}\")\n",
    "            print(f\"Validation loss: {val_loss_sum:.5f}\")\n",
    "            print(f\"lr: {lr}\")\n",
    "            \n",
    "            save_state_dict = supervisor.update_patience_counters(current_val_loss=val_loss_sum)\n",
    "            early_stop = supervisor.early_stop()\n",
    "\n",
    "            new_lr = supervisor.update_lr()\n",
    "            optimizer.param_groups[0]['lr'] = new_lr\n",
    "\n",
    "            if save_state_dict:\n",
    "                supervisor.mlflow_save_model_state_dict(artifact_path=\"model_artifacts\")\n",
    "                mlflow.log_metric(key=\"Number of checkpoints\", value=supervisor.mlflow_model_checkpoints_saved)\n",
    "\n",
    "            elif early_stop:\n",
    "                learning_curves_dict = create_learning_curves_dict(epochs, train_losses, val_losses, train_accuracies, val_accuracies, learning_rates)\n",
    "                mlflow.set_tag(key=\"Exited by\", value=\"Early Stop\")\n",
    "                mlflow.log_table(data=learning_curves_dict, artifact_file=\"training_metadata/data_dictionary.json\")\n",
    "                break\n",
    "        if not early_stop:\n",
    "            print(\"Finished all epochs\")\n",
    "            learning_curves_dict = create_learning_curves_dict(epochs, train_losses, val_losses, train_accuracies, val_accuracies, learning_rates)\n",
    "            mlflow.set_tag(key=\"Exited by\", value=\"Finished all epochs\")\n",
    "            mlflow.log_table(data=learning_curves_dict, artifact_file=\"training_metadata/data_dictionary.json\")\n",
    "\n",
    "# Log the metadata in case of keyboard interrupt or other error\n",
    "except KeyboardInterrupt:\n",
    "    print(\"Keyboard Interrupt occurred\")\n",
    "    learning_curves_dict = create_learning_curves_dict(epochs, train_losses, val_losses, train_accuracies, val_accuracies, learning_rates)\n",
    "    mlflow.start_run(run_id=run_id, experiment_id=exp_id)\n",
    "    mlflow.set_tag(key=\"Exited by\", value=\"Keyboard Interrupt\")\n",
    "    mlflow.log_table(data=learning_curves_dict, artifact_file=\"training_metadata/data_dictionary.json\", run_id=run_id)\n",
    "    mlflow.end_run(status=\"FINISHED\")\n",
    "\n",
    "except RuntimeError as e:\n",
    "    if \"out of memory\" in str(e):\n",
    "        learning_curves_dict = create_learning_curves_dict(epochs, train_losses, val_losses, train_accuracies, val_accuracies, learning_rates)\n",
    "        print(\"Out of Memory Error\")\n",
    "        mlflow.start_run(run_id=run_id, experiment_id=exp_id)\n",
    "        mlflow.set_tag(key=\"Exited by\", value=\"Out of Memory Error\")\n",
    "        mlflow.log_table(data=learning_curves_dict, artifact_file=\"training_metadata/data_dictionary.json\", run_id=run_id)\n",
    "        mlflow.end_run(status=\"FAILED\")"
   ]
  },
  {
   "cell_type": "code",
   "execution_count": 27,
   "metadata": {},
   "outputs": [],
   "source": [
    "mlflow.end_run(status=\"FINISHED\")"
   ]
  },
  {
   "cell_type": "code",
   "execution_count": 33,
   "metadata": {},
   "outputs": [
    {
     "name": "stdout",
     "output_type": "stream",
     "text": [
      "/home/maciej/programming/Ants-Bees-Recognition-Project/mlruns/268962542675260621/test-folder\n"
     ]
    }
   ],
   "source": [
    "print(mlflow.get_tracking_uri())"
   ]
  }
 ],
 "metadata": {
  "kernelspec": {
   "display_name": "pytorch",
   "language": "python",
   "name": "python3"
  },
  "language_info": {
   "codemirror_mode": {
    "name": "ipython",
    "version": 3
   },
   "file_extension": ".py",
   "mimetype": "text/x-python",
   "name": "python",
   "nbconvert_exporter": "python",
   "pygments_lexer": "ipython3",
   "version": "3.12.3"
  }
 },
 "nbformat": 4,
 "nbformat_minor": 2
}
